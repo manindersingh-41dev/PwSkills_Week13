{
 "cells": [
  {
   "cell_type": "markdown",
   "id": "524cdba6-b225-4af4-9907-0006dce95c58",
   "metadata": {},
   "source": [
    "# Week 13 Machine Learning Assignment 1"
   ]
  },
  {
   "cell_type": "markdown",
   "id": "1e988e52-5295-44d5-b001-6e90310dd31e",
   "metadata": {},
   "source": [
    "### Q1- Explain the following with an exaample\n",
    "1) Artificial Intelligence\n",
    "2) Machine Learning,\n",
    "3) Deep Learning"
   ]
  },
  {
   "cell_type": "markdown",
   "id": "33de2ce6-7856-4714-8f1d-5cc66b51599e",
   "metadata": {},
   "source": [
    "#### Artificial Intelligence (AI):\n",
    "Artificial Intelligence (AI) is the simulation of human intelligence processes by computer systems. AI can perform tasks that typically require human intelligence, such as understanding natural language, recognizing speech and images, and making decisions. AI can be divided into two main categories:\n",
    "\n",
    "1) Narrow or Weak AI\n",
    "2) General or Strong AI\n",
    "\n",
    "Example: One example of AI is self-driving cars. These cars use computer vision and machine learning algorithms to analyze their surroundings and make decisions based on that analysis. They can navigate traffic, avoid obstacles, and make decisions based on traffic laws and road conditions.\n",
    "\n",
    "#### Machine Learning (ML):\n",
    "Machine Learning (ML) is a subset of AI that uses statistical techniques to enable computer systems to improve their performance on a specific task by learning from data without being explicitly programmed. Machine learning algorithms can recognize patterns in data and use those patterns to make predictions or decisions. Machine learning algorithms can be classified into three main categories:\n",
    "\n",
    "1) Supervised Learning\n",
    "2) Unsupervised Learning\n",
    "3) Reinforcement Learning\n",
    "\n",
    "Example: An example of machine learning is email filtering. Email providers like Gmail use machine learning algorithms to classify incoming emails as spam or not spam. The algorithm learns from patterns in the text and other features of the email to make a prediction about whether the email is spam or not.\n",
    "\n",
    "#### Deep Learning (DL):\n",
    "Deep Learning (DL) is a subset of machine learning that uses neural networks to model and solve complex problems. Deep learning algorithms use multiple layers of interconnected nodes to process and learn from data. Deep learning is capable of learning from unstructured data such as images, videos, and audio.\n",
    "\n",
    "Example: An example of deep learning is image recognition. Deep learning models can be trained to identify objects within images, such as cars or people. These models use convolutional neural networks (CNNs) to analyze the features of an image and classify it into different categories based on those features. For example, a deep learning model could be trained to identify different breeds of dogs within a photo."
   ]
  },
  {
   "cell_type": "markdown",
   "id": "69680548-679b-425d-a72f-310ebd52416a",
   "metadata": {},
   "source": [
    "### Q2. What is supervised learning? List some examples of supervised learning."
   ]
  },
  {
   "cell_type": "markdown",
   "id": "a191bae4-3570-4c19-a36c-d8c86b1233d4",
   "metadata": {},
   "source": [
    "Supervised learning is a type of machine learning in which a model is trained on a labeled dataset. In supervised learning, the model learns to map input features to the correct output by using the labeled examples provided in the training set. The objective of the model is to predict the correct output for new, unseen input examples.\n",
    "\n",
    "Examples of supervised learning\n",
    "\n",
    "1. Image classification: The task of identifying the content of an image, such as distinguishing between images of cats and dogs.\n",
    "2. Spam detection: The task of classifying emails as either spam or not spam based on their content.\n",
    "3. Sentiment analysis: The task of classifying text as either positive, negative, or neutral based on the sentiment expressed in the text.\n",
    "4. Fraud detection: The task of identifying fraudulent transactions based on historical data."
   ]
  },
  {
   "cell_type": "markdown",
   "id": "be1b157e-c0fa-4ab7-b2e7-e24755b9885a",
   "metadata": {},
   "source": [
    "### Q3. What is unsupervised learning? List some examples of unsupervised learning."
   ]
  },
  {
   "cell_type": "markdown",
   "id": "e0cc50cd-48af-41c4-80c3-7755fbf78e8f",
   "metadata": {},
   "source": [
    "**Unsupervised Learning** is a type of machine learning in which a model is trained on an unlabeled dataset. In unsupervised learning, the model is not provided with any specific output or label to predict, but rather learns to identify patterns and relationships in the input data. The objective of unsupervised learning is often to discover the underlying structure or clusters in the data.\n",
    "\n",
    "Examples of unsupervised learning:\n",
    "\n",
    "1. **Clustering**: The task of grouping similar examples together based on their characteristics. This can be used for customer segmentation, image segmentation, or anomaly detection.\n",
    "2. **Dimensionality reduction**: The task of reducing the number of features in a dataset while retaining as much of the relevant information as possible. This can be used for visualizing high-dimensional data, speeding up training of supervised learning models, or data compression.\n",
    "3. **Association rule mining**: The task of discovering interesting relationships between items in a dataset. This can be used for market basket analysis or recommendation systems.\n",
    "4. **Generative modeling**: The task of learning the underlying distribution of a dataset and generating new examples that are similar to the original data. This can be used for generating realistic images or music."
   ]
  },
  {
   "cell_type": "markdown",
   "id": "71e14ccc-109e-4e1b-9b0f-cf3511dd678b",
   "metadata": {},
   "source": [
    "### Q4. What is the difference between AI, ML, DL, and DS?"
   ]
  },
  {
   "cell_type": "markdown",
   "id": "3221557c-4528-417d-9b0e-5d43f6d60f79",
   "metadata": {},
   "source": [
    "**Artificial Intelligence (AI)** refers to the development of computer systems that can perform tasks that typically require human intelligence, such as natural language processing, computer vision, and decision making. AI can be achieved through various approaches, including rule-based systems, expert systems, and machine learning.\n",
    "\n",
    "**Machine Learning (ML)** is a subset of AI that involves the development of algorithms and statistical models that enable computer systems to improve their performance on a specific task by learning from data without being explicitly programmed. ML can be supervised, unsupervised, or semi-supervised.\n",
    "\n",
    "**Deep Learning (DL)** is a subfield of ML that involves the use of artificial neural networks, which are modeled after the structure and function of the human brain. DL is particularly suited for tasks such as image and speech recognition, natural language processing, and autonomous driving.\n",
    "\n",
    "**Data Science (DS)** is a multidisciplinary field that involves the use of statistical and computational methods to extract insights and knowledge from data. DS combines elements of statistics, mathematics, computer science, and domain expertise to address complex data-driven problems and make data-driven decisions.\n"
   ]
  },
  {
   "cell_type": "markdown",
   "id": "90049858-6bf9-49a2-b373-9edc4de4786d",
   "metadata": {},
   "source": [
    "### Q5. What are the main differences between supervised learning, unsupervised learning, and semi-supervised learning?"
   ]
  },
  {
   "cell_type": "markdown",
   "id": "e9c32795-326b-4331-b2ea-e70f813ec320",
   "metadata": {},
   "source": [
    "**Supervised learning:** In supervised learning, the model is trained on labeled data, where the input and output pairs are known. The objective of the model is to learn a mapping between input features and the corresponding output. The labeled data is used to train the model, and the model is then tested on new, unseen data. The goal of supervised learning is to make accurate predictions on new, unseen data.\n",
    "\n",
    "**Unsupervised learning:** In unsupervised learning, the model is trained on unlabeled data, where the input data has no corresponding output. The objective of the model is to identify patterns or structure in the input data. Unsupervised learning can be used for tasks such as clustering, dimensionality reduction, and anomaly detection. The goal of unsupervised learning is to gain insights into the data and discover interesting relationships or anomalies that can be further explored or used for decision-making.\n",
    "\n",
    "**Semi-supervised learning:** In semi-supervised learning, the model is trained on a combination of labeled and unlabeled data. The labeled data is used to guide the learning process, while the unlabeled data is used to improve the generalization performance of the model. Semi-supervised learning can be useful when labeled data is scarce or expensive to obtain. The goal of semi-supervised learning is to make accurate predictions on new, unseen data while using as much of the available data as possible."
   ]
  },
  {
   "cell_type": "markdown",
   "id": "aad1ecef-fa63-4be9-9474-4ece41e8f23f",
   "metadata": {},
   "source": [
    "### Q6. What is train, test and validation split? Explain the importance of each term."
   ]
  },
  {
   "cell_type": "markdown",
   "id": "3f510bbd-2d70-43f3-967f-d74153622f32",
   "metadata": {},
   "source": [
    "**Train set:** This is the part of the dataset used to train the model. The model learns the patterns and relationships in the data through this set. Typically, the train set consists of 60-80% of the entire dataset. The train set is important because it is used to teach the model how to make accurate predictions on new, unseen data. The model learns the patterns and relationships in the data through this set.\n",
    "\n",
    "**Test set:** This is the part of the dataset used to evaluate the performance of the trained model on unseen data. The model is applied to the test set, and the resulting predictions are compared to the true values to evaluate the accuracy of the model. Typically, the test set consists of 20-40% of the entire dataset. The test set is important because it is used to evaluate the performance of the trained model on unseen data. This helps to ensure that the model can make accurate predictions on new data and is not overfitting the training data.\n",
    "\n",
    "**Validation set:** This is an optional part of the dataset used to fine-tune the model hyperparameters and prevent overfitting. The validation set is used to evaluate the performance of the model on data that is not used for training or testing. This helps to prevent the model from becoming too complex and overfitting the training data. Typically, the validation set consists of 10-20% of the entire dataset. The validation set is important because it is used to fine-tune the model hyperparameters and prevent overfitting. By evaluating the performance of the model on data that is not used for training or testing, we can ensure that the model is not becoming too complex and overfitting the training data."
   ]
  },
  {
   "cell_type": "markdown",
   "id": "44ff292f-7cae-4a7a-95eb-55d144a776c7",
   "metadata": {},
   "source": [
    "### Q7. How can unsupervised learning be used for anomaly detection?"
   ]
  },
  {
   "cell_type": "markdown",
   "id": "36b716b9-e009-4d16-934c-18ed1fb67ed2",
   "metadata": {},
   "source": [
    "**Unsupervised learning** can be used for anomaly detection by identifying patterns and structures in the data that deviate from the norm. Anomaly detection is the process of identifying data points that are significantly different from the majority of the data, and it is an important problem in many fields, including finance, healthcare, and cybersecurity.\n",
    "\n",
    "Unsupervised learning algorithms do not rely on labeled data, so they can be used to detect anomalies in datasets where there are no pre-defined classes or labels for the anomalies. Clustering, density estimation, dimensionality reduction, and one-class classification are common unsupervised learning techniques used for anomaly detection. By identifying anomalies in the data, we can detect abnormal behavior or events that require further investigation.\n",
    "\n",
    "For example, clustering algorithms can be used to group similar data points together and identify anomalies as data points that do not belong to any cluster or belong to a very small cluster. Density estimation algorithms can be used to estimate the probability distribution of the data and identify anomalies as data points with low probability. Dimensionality reduction algorithms can be used to reduce the number of features in the data while preserving the most important information, and identify anomalies as data points that are far away from the majority of the data in the reduced space. By detecting anomalies in the data, we can identify abnormal behavior or events that require further investigation."
   ]
  },
  {
   "cell_type": "markdown",
   "id": "c5e5a68f-0fff-48ef-bf07-fcc3be3e7129",
   "metadata": {},
   "source": [
    "### Q8. List down some commonly used supervised learning algorithms and unsupervised learning algorithms."
   ]
  },
  {
   "cell_type": "markdown",
   "id": "39978698-6017-4994-8611-959cabe7db49",
   "metadata": {},
   "source": [
    "**Supervised Learning Algorithms:**\n",
    "\n",
    "+ Linear Regression\n",
    "+ Logistic Regression\n",
    "+ Decision Trees\n",
    "+ Random Forest\n",
    "+ Support Vector Machines (SVM)\n",
    "+ K-Nearest Neighbors (KNN)\n",
    "+ Naive Bayes\n",
    "+ Artificial Neural Networks (ANN)\n",
    "+ Gradient Boosting Machines (GBM)\n",
    "+ XGBoost\n",
    "\n",
    "**Unsupervised Learning Algorithms:**\n",
    "\n",
    "+ K-Means Clustering\n",
    "+ Hierarchical Clustering\n",
    "+ Density-Based Spatial Clustering of Applications with Noise (DBSCAN)\n",
    "+ Principal Component Analysis (PCA)\n",
    "+ Independent Component Analysis (ICA)\n",
    "+ t-Distributed Stochastic Neighbor Embedding (t-SNE)\n",
    "+ Self-Organizing Maps (SOM)\n",
    "+ Apriori Algorithm for Association Rule Mining\n",
    "+ Isolation Forest for Anomaly Detection\n",
    "+ Gaussian Mixture Models (GMM)"
   ]
  },
  {
   "cell_type": "code",
   "execution_count": null,
   "id": "bfb9dd35-e367-427f-af63-5bc7ff13e916",
   "metadata": {},
   "outputs": [],
   "source": []
  }
 ],
 "metadata": {
  "kernelspec": {
   "display_name": "Python 3 (ipykernel)",
   "language": "python",
   "name": "python3"
  },
  "language_info": {
   "codemirror_mode": {
    "name": "ipython",
    "version": 3
   },
   "file_extension": ".py",
   "mimetype": "text/x-python",
   "name": "python",
   "nbconvert_exporter": "python",
   "pygments_lexer": "ipython3",
   "version": "3.10.8"
  }
 },
 "nbformat": 4,
 "nbformat_minor": 5
}
